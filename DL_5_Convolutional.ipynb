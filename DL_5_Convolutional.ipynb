{
  "nbformat": 4,
  "nbformat_minor": 0,
  "metadata": {
    "colab": {
      "provenance": []
    },
    "kernelspec": {
      "name": "python3",
      "display_name": "Python 3"
    },
    "language_info": {
      "name": "python"
    }
  },
  "cells": [
    {
      "cell_type": "code",
      "execution_count": 1,
      "metadata": {
        "colab": {
          "base_uri": "https://localhost:8080/"
        },
        "id": "785lDn5eRzJb",
        "outputId": "a737ee73-e7d1-4faa-b3f5-691ec8fd59c9"
      },
      "outputs": [
        {
          "output_type": "stream",
          "name": "stdout",
          "text": [
            "Downloading data from https://storage.googleapis.com/tensorflow/tf-keras-datasets/mnist.npz\n",
            "11490434/11490434 [==============================] - 1s 0us/step\n"
          ]
        }
      ],
      "source": [
        "import numpy as np\n",
        "import keras\n",
        "from keras.datasets import mnist\n",
        "from keras.models import Model\n",
        "from keras.layers import Dense, Input\n",
        "from keras.layers import Conv2D, MaxPooling2D, Dropout, Flatten\n",
        "from keras import backend as k\n",
        "(x_train, y_train), (x_test, y_test) = mnist.load_data()"
      ]
    },
    {
      "cell_type": "code",
      "source": [
        "img_rows, img_cols = 28, 28\n",
        "if k.image_data_format() == 'channels_first':\n",
        " x_train = x_train.reshape(x_train.shape[0], 1, img_rows, img_cols)\n",
        " x_test = x_test.reshape(x_test.shape[0], 1, img_rows, img_cols)\n",
        " inpx = (1, img_rows, img_cols)\n",
        "else:\n",
        " x_train = x_train.reshape(x_train.shape[0], img_rows, img_cols, 1)\n",
        " x_test = x_test.reshape(x_test.shape[0], img_rows, img_cols, 1)\n",
        " inpx = (img_rows, img_cols, 1)"
      ],
      "metadata": {
        "id": "0lgZRc14SenP"
      },
      "execution_count": 2,
      "outputs": []
    },
    {
      "cell_type": "code",
      "source": [
        "x_train = x_train.astype('float32')\n",
        "x_test = x_test.astype('float32')\n",
        "x_train /= 255\n",
        "x_test /= 255\n",
        "y_train = keras.utils.to_categorical(y_train)\n",
        "y_test = keras.utils.to_categorical(y_test)\n",
        "inpx = Input(shape=inpx)\n",
        "layer1 = Conv2D(32, kernel_size=(3, 3), activation='relu')(inpx)\n",
        "layer2 = Conv2D(64, (3, 3), activation='relu')(layer1)\n",
        "layer3 = MaxPooling2D(pool_size=(3, 3))(layer2)\n",
        "layer4 = Dropout(0.5)(layer3)\n",
        "layer5 = Flatten()(layer4)\n",
        "layer6 = Dense(250, activation='sigmoid')(layer5)\n",
        "layer7 = Dense(10, activation='softmax')(layer6)"
      ],
      "metadata": {
        "id": "TC67U4SDSgLF"
      },
      "execution_count": 3,
      "outputs": []
    },
    {
      "cell_type": "code",
      "source": [
        "model = Model(inputs=[inpx], outputs=layer7)\n",
        "model.compile(optimizer=keras.optimizers.Adadelta(), loss=keras.losses.categorical_crossentropy, \n",
        "metrics=['accuracy'])\n",
        "model.fit(x_train, y_train, epochs=12, batch_size=500)"
      ],
      "metadata": {
        "colab": {
          "base_uri": "https://localhost:8080/"
        },
        "id": "cHVQg480ShmN",
        "outputId": "81969af4-c70c-49fd-ed53-9482b99ed50b"
      },
      "execution_count": 4,
      "outputs": [
        {
          "output_type": "stream",
          "name": "stdout",
          "text": [
            "Epoch 1/12\n",
            "120/120 [==============================] - 168s 1s/step - loss: 2.5298 - accuracy: 0.1187\n",
            "Epoch 2/12\n",
            "120/120 [==============================] - 161s 1s/step - loss: 2.5114 - accuracy: 0.1226\n",
            "Epoch 3/12\n",
            "120/120 [==============================] - 166s 1s/step - loss: 2.4932 - accuracy: 0.1254\n",
            "Epoch 4/12\n",
            "120/120 [==============================] - 164s 1s/step - loss: 2.4749 - accuracy: 0.1283\n",
            "Epoch 5/12\n",
            "120/120 [==============================] - 162s 1s/step - loss: 2.4568 - accuracy: 0.1331\n",
            "Epoch 6/12\n",
            "120/120 [==============================] - 162s 1s/step - loss: 2.4392 - accuracy: 0.1365\n",
            "Epoch 7/12\n",
            "120/120 [==============================] - 169s 1s/step - loss: 2.4219 - accuracy: 0.1421\n",
            "Epoch 8/12\n",
            "120/120 [==============================] - 163s 1s/step - loss: 2.4050 - accuracy: 0.1472\n",
            "Epoch 9/12\n",
            "120/120 [==============================] - 164s 1s/step - loss: 2.3886 - accuracy: 0.1519\n",
            "Epoch 10/12\n",
            "120/120 [==============================] - 162s 1s/step - loss: 2.3728 - accuracy: 0.1576\n",
            "Epoch 11/12\n",
            "120/120 [==============================] - 168s 1s/step - loss: 2.3571 - accuracy: 0.1632\n",
            "Epoch 12/12\n",
            "120/120 [==============================] - 162s 1s/step - loss: 2.3420 - accuracy: 0.1685\n"
          ]
        },
        {
          "output_type": "execute_result",
          "data": {
            "text/plain": [
              "<keras.callbacks.History at 0x7f7001f0f700>"
            ]
          },
          "metadata": {},
          "execution_count": 4
        }
      ]
    },
    {
      "cell_type": "code",
      "source": [
        "score = model.evaluate(x_test, y_test, verbose=0)\n",
        "print('1oss=', score[0])\n",
        "print('accuracy=', score[1])"
      ],
      "metadata": {
        "colab": {
          "base_uri": "https://localhost:8080/"
        },
        "id": "sayHH-ZaSjIV",
        "outputId": "52ad6719-5c63-4210-f19e-54eb4ad5cf34"
      },
      "execution_count": 5,
      "outputs": [
        {
          "output_type": "stream",
          "name": "stdout",
          "text": [
            "1oss= 2.3296148777008057\n",
            "accuracy= 0.1859000027179718\n"
          ]
        }
      ]
    },
    {
      "cell_type": "code",
      "source": [
        "y_predicted_by_model = model.predict(x_test)"
      ],
      "metadata": {
        "colab": {
          "base_uri": "https://localhost:8080/"
        },
        "id": "_fMIQo9iSlS-",
        "outputId": "228da89d-01ef-46fc-fe03-fee55c4f8033"
      },
      "execution_count": 6,
      "outputs": [
        {
          "output_type": "stream",
          "name": "stdout",
          "text": [
            "313/313 [==============================] - 8s 26ms/step\n"
          ]
        }
      ]
    },
    {
      "cell_type": "code",
      "source": [
        "np.argmax(y_predicted_by_model[0])\n"
      ],
      "metadata": {
        "colab": {
          "base_uri": "https://localhost:8080/"
        },
        "id": "DLaSRXrmEaZB",
        "outputId": "bdeef5c5-0185-40f7-a567-04c9cab998d7"
      },
      "execution_count": 8,
      "outputs": [
        {
          "output_type": "execute_result",
          "data": {
            "text/plain": [
              "7"
            ]
          },
          "metadata": {},
          "execution_count": 8
        }
      ]
    }
  ]
}