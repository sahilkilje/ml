{
  "nbformat": 4,
  "nbformat_minor": 0,
  "metadata": {
    "colab": {
      "provenance": []
    },
    "kernelspec": {
      "name": "python3",
      "display_name": "Python 3"
    },
    "language_info": {
      "name": "python"
    }
  },
  "cells": [
    {
      "cell_type": "code",
      "execution_count": null,
      "metadata": {
        "id": "RQRtyoA0Q2eE"
      },
      "outputs": [],
      "source": [
        "from keras.layers import Input, Dense\n",
        "from keras.models import Model\n",
        "from keras.datasets import mnist\n",
        "import numpy as np\n",
        "import matplotlib.pyplot as plt\n",
        "%matplotlib inline"
      ]
    },
    {
      "cell_type": "code",
      "source": [
        "#Load MNIST dataset\n",
        "(XTrain, YTrain),(XTest,YTest) = mnist.load_data()\n",
        "print('XTrain Class = ', type(XTrain))\n",
        "print('YTrain Class = ', type(YTrain))\n",
        "#Shape of our dataset\n",
        "print('XTrain shape = ', XTrain.shape)\n",
        "print('XTest shape = ', XTest.shape)\n",
        "print('YTrain shape = ', YTrain.shape)\n",
        "print('YTest shape = ', YTest.shape)\n",
        "#Number of distinct values of our MNIST target\n",
        "print('YTrain values = ', np.unique(YTrain))\n",
        "print('YTest values = ', np.unique(YTest))\n",
        "#Distribution of classes in our dataset\n",
        "unique, counts = np.unique(YTrain, return_counts=True)\n",
        "print('YTrain Distribution = ', dict(zip(unique,counts)))\n",
        "unique, counts = np.unique(YTest, return_counts=True)\n",
        "print('YTest Distribution = ', dict(zip(unique,counts)))"
      ],
      "metadata": {
        "colab": {
          "base_uri": "https://localhost:8080/"
        },
        "id": "xJG7fEMqRPAM",
        "outputId": "8f9c2575-9f60-4777-ea09-48fdd9beb0b2"
      },
      "execution_count": null,
      "outputs": [
        {
          "output_type": "stream",
          "name": "stdout",
          "text": [
            "Downloading data from https://storage.googleapis.com/tensorflow/tf-keras-datasets/mnist.npz\n",
            "11490434/11490434 [==============================] - 0s 0us/step\n",
            "XTrain Class =  <class 'numpy.ndarray'>\n",
            "YTrain Class =  <class 'numpy.ndarray'>\n",
            "XTrain shape =  (60000, 28, 28)\n",
            "XTest shape =  (10000, 28, 28)\n",
            "YTrain shape =  (60000,)\n",
            "YTest shape =  (10000,)\n",
            "YTrain values =  [0 1 2 3 4 5 6 7 8 9]\n",
            "YTest values =  [0 1 2 3 4 5 6 7 8 9]\n",
            "YTrain Distribution =  {0: 5923, 1: 6742, 2: 5958, 3: 6131, 4: 5842, 5: 5421, 6: 5918, 7: 6265, 8: 5851, 9: 5949}\n",
            "YTest Distribution =  {0: 980, 1: 1135, 2: 1032, 3: 1010, 4: 982, 5: 892, 6: 958, 7: 1028, 8: 974, 9: 1009}\n"
          ]
        }
      ]
    },
    {
      "cell_type": "code",
      "source": [
        "#Data Normalization\n",
        "XTrain = XTrain.astype('float32')/255\n",
        "XTest = XTest.astype('float32')/255\n",
        "#Data Reshaping\n",
        "XTrain = XTrain.reshape((len(XTrain), np.prod(XTrain.shape[1:])))\n",
        "XTest= XTest.reshape((len(XTest), np.prod(XTest.shape[1:])))\n",
        "print(XTrain.shape)\n",
        "print(XTest.shape)"
      ],
      "metadata": {
        "colab": {
          "base_uri": "https://localhost:8080/"
        },
        "id": "z43NMfllRQfr",
        "outputId": "e77f9bf8-4901-4e66-c297-a7b320da6968"
      },
      "execution_count": null,
      "outputs": [
        {
          "output_type": "stream",
          "name": "stdout",
          "text": [
            "(60000, 784)\n",
            "(10000, 784)\n"
          ]
        }
      ]
    },
    {
      "cell_type": "code",
      "source": [
        "InputModel = Input(shape=(784,))\n",
        "EncodedLayer = Dense(32, activation='relu')(InputModel)\n",
        "DecodedLayer = Dense(784, activation='sigmoid')(EncodedLayer)\n",
        "AutoencoderModel = Model(InputModel, DecodedLayer)\n",
        "#We can summarize our model\n",
        "AutoencoderModel.summary()"
      ],
      "metadata": {
        "colab": {
          "base_uri": "https://localhost:8080/"
        },
        "id": "35rfFW2sRTPT",
        "outputId": "82a96be1-594d-4479-a6e9-3bf32bfda3ba"
      },
      "execution_count": null,
      "outputs": [
        {
          "output_type": "stream",
          "name": "stdout",
          "text": [
            "Model: \"model\"\n",
            "_________________________________________________________________\n",
            " Layer (type)                Output Shape              Param #   \n",
            "=================================================================\n",
            " input_1 (InputLayer)        [(None, 784)]             0         \n",
            "                                                                 \n",
            " dense (Dense)               (None, 32)                25120     \n",
            "                                                                 \n",
            " dense_1 (Dense)             (None, 784)               25872     \n",
            "                                                                 \n",
            "=================================================================\n",
            "Total params: 50,992\n",
            "Trainable params: 50,992\n",
            "Non-trainable params: 0\n",
            "_________________________________________________________________\n"
          ]
        }
      ]
    },
    {
      "cell_type": "code",
      "source": [
        "#Lets train the model using adam optimizer\n",
        "AutoencoderModel.compile(optimizer='adam', loss='binary_crossentropy')\n",
        "history = AutoencoderModel.fit(XTrain, XTrain,\n",
        " batch_size=256,\n",
        " epochs=100,\n",
        " shuffle=True,\n",
        " validation_data=(XTest, XTest))\n",
        "#Here while fitting model we use XTrain + XTrain since it is Autoencoder\n",
        "#While validation we use XTest and XTest\n",
        "#Make prediction to decode the digits\n",
        "DecodedDigits = AutoencoderModel.predict(XTest)"
      ],
      "metadata": {
        "colab": {
          "base_uri": "https://localhost:8080/"
        },
        "id": "uUqZ6C0_RW7T",
        "outputId": "e857c08c-cf4b-43ad-c6a3-63997dc042cb"
      },
      "execution_count": null,
      "outputs": [
        {
          "output_type": "stream",
          "name": "stdout",
          "text": [
            "Epoch 1/100\n",
            "235/235 [==============================] - 4s 14ms/step - loss: 0.2733 - val_loss: 0.1869\n",
            "Epoch 2/100\n",
            "235/235 [==============================] - 4s 18ms/step - loss: 0.1700 - val_loss: 0.1526\n",
            "Epoch 3/100\n",
            "235/235 [==============================] - 3s 13ms/step - loss: 0.1436 - val_loss: 0.1332\n",
            "Epoch 4/100\n",
            "235/235 [==============================] - 3s 11ms/step - loss: 0.1282 - val_loss: 0.1212\n",
            "Epoch 5/100\n",
            "235/235 [==============================] - 5s 19ms/step - loss: 0.1184 - val_loss: 0.1132\n",
            "Epoch 6/100\n",
            "235/235 [==============================] - 5s 20ms/step - loss: 0.1115 - val_loss: 0.1071\n",
            "Epoch 7/100\n",
            "235/235 [==============================] - 3s 11ms/step - loss: 0.1062 - val_loss: 0.1028\n",
            "Epoch 8/100\n",
            "235/235 [==============================] - 3s 12ms/step - loss: 0.1024 - val_loss: 0.0996\n",
            "Epoch 9/100\n",
            "235/235 [==============================] - 3s 12ms/step - loss: 0.0996 - val_loss: 0.0973\n",
            "Epoch 10/100\n",
            "235/235 [==============================] - 3s 15ms/step - loss: 0.0976 - val_loss: 0.0956\n",
            "Epoch 11/100\n",
            "235/235 [==============================] - 5s 22ms/step - loss: 0.0962 - val_loss: 0.0945\n",
            "Epoch 12/100\n",
            "235/235 [==============================] - 5s 20ms/step - loss: 0.0953 - val_loss: 0.0937\n",
            "Epoch 13/100\n",
            "235/235 [==============================] - 3s 14ms/step - loss: 0.0947 - val_loss: 0.0932\n",
            "Epoch 14/100\n",
            "235/235 [==============================] - 2s 10ms/step - loss: 0.0943 - val_loss: 0.0930\n",
            "Epoch 15/100\n",
            "235/235 [==============================] - 3s 11ms/step - loss: 0.0941 - val_loss: 0.0928\n",
            "Epoch 16/100\n",
            "235/235 [==============================] - 3s 12ms/step - loss: 0.0939 - val_loss: 0.0927\n",
            "Epoch 17/100\n",
            "235/235 [==============================] - 6s 26ms/step - loss: 0.0937 - val_loss: 0.0924\n",
            "Epoch 18/100\n",
            "235/235 [==============================] - 5s 20ms/step - loss: 0.0936 - val_loss: 0.0924\n",
            "Epoch 19/100\n",
            "235/235 [==============================] - 3s 13ms/step - loss: 0.0935 - val_loss: 0.0922\n",
            "Epoch 20/100\n",
            "235/235 [==============================] - 5s 19ms/step - loss: 0.0934 - val_loss: 0.0922\n",
            "Epoch 21/100\n",
            "235/235 [==============================] - 3s 13ms/step - loss: 0.0933 - val_loss: 0.0921\n",
            "Epoch 22/100\n",
            "235/235 [==============================] - 3s 11ms/step - loss: 0.0933 - val_loss: 0.0920\n",
            "Epoch 23/100\n",
            "235/235 [==============================] - 3s 12ms/step - loss: 0.0932 - val_loss: 0.0921\n",
            "Epoch 24/100\n",
            "235/235 [==============================] - 4s 17ms/step - loss: 0.0932 - val_loss: 0.0919\n",
            "Epoch 25/100\n",
            "235/235 [==============================] - 3s 12ms/step - loss: 0.0931 - val_loss: 0.0919\n",
            "Epoch 26/100\n",
            "235/235 [==============================] - 3s 12ms/step - loss: 0.0931 - val_loss: 0.0918\n",
            "Epoch 27/100\n",
            "235/235 [==============================] - 3s 12ms/step - loss: 0.0930 - val_loss: 0.0919\n",
            "Epoch 28/100\n",
            "235/235 [==============================] - 4s 16ms/step - loss: 0.0930 - val_loss: 0.0918\n",
            "Epoch 29/100\n",
            "235/235 [==============================] - 3s 12ms/step - loss: 0.0930 - val_loss: 0.0918\n",
            "Epoch 30/100\n",
            "235/235 [==============================] - 3s 12ms/step - loss: 0.0930 - val_loss: 0.0919\n",
            "Epoch 31/100\n",
            "235/235 [==============================] - 3s 12ms/step - loss: 0.0929 - val_loss: 0.0918\n",
            "Epoch 32/100\n",
            "235/235 [==============================] - 4s 17ms/step - loss: 0.0929 - val_loss: 0.0917\n",
            "Epoch 33/100\n",
            "235/235 [==============================] - 3s 13ms/step - loss: 0.0929 - val_loss: 0.0917\n",
            "Epoch 34/100\n",
            "235/235 [==============================] - 3s 13ms/step - loss: 0.0929 - val_loss: 0.0917\n",
            "Epoch 35/100\n",
            "235/235 [==============================] - 3s 13ms/step - loss: 0.0929 - val_loss: 0.0918\n",
            "Epoch 36/100\n",
            "235/235 [==============================] - 3s 14ms/step - loss: 0.0928 - val_loss: 0.0917\n",
            "Epoch 37/100\n",
            "235/235 [==============================] - 3s 13ms/step - loss: 0.0928 - val_loss: 0.0917\n",
            "Epoch 38/100\n",
            "235/235 [==============================] - 3s 12ms/step - loss: 0.0928 - val_loss: 0.0916\n",
            "Epoch 39/100\n",
            "235/235 [==============================] - 3s 12ms/step - loss: 0.0928 - val_loss: 0.0916\n",
            "Epoch 40/100\n",
            "235/235 [==============================] - 3s 11ms/step - loss: 0.0928 - val_loss: 0.0916\n",
            "Epoch 41/100\n",
            "235/235 [==============================] - 4s 15ms/step - loss: 0.0928 - val_loss: 0.0917\n",
            "Epoch 42/100\n",
            "235/235 [==============================] - 3s 12ms/step - loss: 0.0928 - val_loss: 0.0916\n",
            "Epoch 43/100\n",
            "235/235 [==============================] - 3s 11ms/step - loss: 0.0927 - val_loss: 0.0916\n",
            "Epoch 44/100\n",
            "235/235 [==============================] - 3s 12ms/step - loss: 0.0927 - val_loss: 0.0917\n",
            "Epoch 45/100\n",
            "235/235 [==============================] - 5s 21ms/step - loss: 0.0927 - val_loss: 0.0915\n",
            "Epoch 46/100\n",
            "235/235 [==============================] - 2s 10ms/step - loss: 0.0927 - val_loss: 0.0916\n",
            "Epoch 47/100\n",
            "235/235 [==============================] - 3s 11ms/step - loss: 0.0927 - val_loss: 0.0916\n",
            "Epoch 48/100\n",
            "235/235 [==============================] - 3s 11ms/step - loss: 0.0927 - val_loss: 0.0916\n",
            "Epoch 49/100\n",
            "235/235 [==============================] - 3s 12ms/step - loss: 0.0927 - val_loss: 0.0915\n",
            "Epoch 50/100\n",
            "235/235 [==============================] - 3s 14ms/step - loss: 0.0927 - val_loss: 0.0915\n",
            "Epoch 51/100\n",
            "235/235 [==============================] - 3s 11ms/step - loss: 0.0926 - val_loss: 0.0915\n",
            "Epoch 52/100\n",
            "235/235 [==============================] - 3s 13ms/step - loss: 0.0926 - val_loss: 0.0915\n",
            "Epoch 53/100\n",
            "235/235 [==============================] - 3s 12ms/step - loss: 0.0926 - val_loss: 0.0915\n",
            "Epoch 54/100\n",
            "235/235 [==============================] - 4s 16ms/step - loss: 0.0926 - val_loss: 0.0915\n",
            "Epoch 55/100\n",
            "235/235 [==============================] - 3s 11ms/step - loss: 0.0926 - val_loss: 0.0915\n",
            "Epoch 56/100\n",
            "235/235 [==============================] - 3s 11ms/step - loss: 0.0926 - val_loss: 0.0915\n",
            "Epoch 57/100\n",
            "235/235 [==============================] - 3s 11ms/step - loss: 0.0926 - val_loss: 0.0915\n",
            "Epoch 58/100\n",
            "235/235 [==============================] - 4s 15ms/step - loss: 0.0926 - val_loss: 0.0915\n",
            "Epoch 59/100\n",
            "235/235 [==============================] - 3s 12ms/step - loss: 0.0926 - val_loss: 0.0915\n",
            "Epoch 60/100\n",
            "235/235 [==============================] - 3s 11ms/step - loss: 0.0926 - val_loss: 0.0914\n",
            "Epoch 61/100\n",
            "235/235 [==============================] - 3s 11ms/step - loss: 0.0926 - val_loss: 0.0914\n",
            "Epoch 62/100\n",
            "235/235 [==============================] - 3s 11ms/step - loss: 0.0926 - val_loss: 0.0914\n",
            "Epoch 63/100\n",
            "235/235 [==============================] - 4s 18ms/step - loss: 0.0926 - val_loss: 0.0914\n",
            "Epoch 64/100\n",
            "235/235 [==============================] - 3s 15ms/step - loss: 0.0925 - val_loss: 0.0914\n",
            "Epoch 65/100\n",
            "235/235 [==============================] - 3s 12ms/step - loss: 0.0925 - val_loss: 0.0914\n",
            "Epoch 66/100\n",
            "235/235 [==============================] - 3s 13ms/step - loss: 0.0925 - val_loss: 0.0915\n",
            "Epoch 67/100\n",
            "235/235 [==============================] - 4s 16ms/step - loss: 0.0925 - val_loss: 0.0916\n",
            "Epoch 68/100\n",
            "235/235 [==============================] - 3s 11ms/step - loss: 0.0925 - val_loss: 0.0915\n",
            "Epoch 69/100\n",
            "235/235 [==============================] - 3s 12ms/step - loss: 0.0925 - val_loss: 0.0915\n",
            "Epoch 70/100\n",
            "235/235 [==============================] - 3s 11ms/step - loss: 0.0925 - val_loss: 0.0914\n",
            "Epoch 71/100\n",
            "235/235 [==============================] - 4s 16ms/step - loss: 0.0925 - val_loss: 0.0914\n",
            "Epoch 72/100\n",
            "235/235 [==============================] - 3s 11ms/step - loss: 0.0925 - val_loss: 0.0914\n",
            "Epoch 73/100\n",
            "235/235 [==============================] - 3s 11ms/step - loss: 0.0925 - val_loss: 0.0913\n",
            "Epoch 74/100\n",
            "235/235 [==============================] - 3s 11ms/step - loss: 0.0925 - val_loss: 0.0914\n",
            "Epoch 75/100\n",
            "235/235 [==============================] - 3s 14ms/step - loss: 0.0925 - val_loss: 0.0914\n",
            "Epoch 76/100\n",
            "235/235 [==============================] - 3s 14ms/step - loss: 0.0925 - val_loss: 0.0914\n",
            "Epoch 77/100\n",
            "235/235 [==============================] - 3s 11ms/step - loss: 0.0925 - val_loss: 0.0914\n",
            "Epoch 78/100\n",
            "235/235 [==============================] - 3s 12ms/step - loss: 0.0925 - val_loss: 0.0913\n",
            "Epoch 79/100\n",
            "235/235 [==============================] - 3s 11ms/step - loss: 0.0924 - val_loss: 0.0913\n",
            "Epoch 80/100\n",
            "235/235 [==============================] - 4s 16ms/step - loss: 0.0924 - val_loss: 0.0914\n",
            "Epoch 81/100\n",
            "235/235 [==============================] - 3s 12ms/step - loss: 0.0924 - val_loss: 0.0914\n",
            "Epoch 82/100\n",
            "235/235 [==============================] - 3s 12ms/step - loss: 0.0924 - val_loss: 0.0913\n",
            "Epoch 83/100\n",
            "235/235 [==============================] - 3s 12ms/step - loss: 0.0924 - val_loss: 0.0913\n",
            "Epoch 84/100\n",
            "235/235 [==============================] - 4s 17ms/step - loss: 0.0924 - val_loss: 0.0913\n",
            "Epoch 85/100\n",
            "235/235 [==============================] - 3s 12ms/step - loss: 0.0924 - val_loss: 0.0913\n",
            "Epoch 86/100\n",
            "235/235 [==============================] - 3s 12ms/step - loss: 0.0924 - val_loss: 0.0913\n",
            "Epoch 87/100\n",
            "235/235 [==============================] - 3s 11ms/step - loss: 0.0924 - val_loss: 0.0913\n",
            "Epoch 88/100\n",
            "235/235 [==============================] - 3s 13ms/step - loss: 0.0924 - val_loss: 0.0913\n",
            "Epoch 89/100\n",
            "235/235 [==============================] - 4s 15ms/step - loss: 0.0924 - val_loss: 0.0913\n",
            "Epoch 90/100\n",
            "235/235 [==============================] - 3s 12ms/step - loss: 0.0924 - val_loss: 0.0913\n",
            "Epoch 91/100\n",
            "235/235 [==============================] - 3s 12ms/step - loss: 0.0924 - val_loss: 0.0913\n",
            "Epoch 92/100\n",
            "235/235 [==============================] - 3s 13ms/step - loss: 0.0924 - val_loss: 0.0913\n",
            "Epoch 93/100\n",
            "235/235 [==============================] - 4s 18ms/step - loss: 0.0923 - val_loss: 0.0914\n",
            "Epoch 94/100\n",
            "235/235 [==============================] - 3s 11ms/step - loss: 0.0924 - val_loss: 0.0913\n",
            "Epoch 95/100\n",
            "235/235 [==============================] - 3s 12ms/step - loss: 0.0923 - val_loss: 0.0913\n",
            "Epoch 96/100\n",
            "235/235 [==============================] - 3s 12ms/step - loss: 0.0923 - val_loss: 0.0912\n",
            "Epoch 97/100\n",
            "235/235 [==============================] - 4s 19ms/step - loss: 0.0923 - val_loss: 0.0913\n",
            "Epoch 98/100\n",
            "235/235 [==============================] - 3s 14ms/step - loss: 0.0923 - val_loss: 0.0912\n",
            "Epoch 99/100\n",
            "235/235 [==============================] - 3s 14ms/step - loss: 0.0923 - val_loss: 0.0912\n",
            "Epoch 100/100\n",
            "235/235 [==============================] - 3s 13ms/step - loss: 0.0923 - val_loss: 0.0913\n",
            "313/313 [==============================] - 1s 2ms/step\n"
          ]
        }
      ]
    },
    {
      "cell_type": "code",
      "source": [
        "n = 5\n",
        "plt.figure(figsize=(20,4))\n",
        "for i in range(n):\n",
        " ax = plt.subplot(2, n, i+1)\n",
        " #input image\n",
        " plt.imshow(XTest[i+10].reshape(28,28))\n",
        " plt.gray()\n",
        " plt.title('Input Image')\n",
        " ax.get_xaxis().set_visible(False)\n",
        " ax.get_xaxis().set_visible(False)\n",
        " ax = plt.subplot(2, n, i+1+n)\n",
        " #image decoded by encoder\n",
        " plt.imshow(DecodedDigits[i+10].reshape(28,28))\n",
        " plt.gray()\n",
        " plt.title('Decoded Image')\n",
        " ax.get_xaxis().set_visible(False)\n",
        " ax.get_xaxis().set_visible(False)\n",
        "plt.show()"
      ],
      "metadata": {
        "colab": {
          "base_uri": "https://localhost:8080/",
          "height": 354
        },
        "id": "rfPXDHb7Rbxc",
        "outputId": "ee9c5f42-1966-44d2-ef3b-9b3de0d9a145"
      },
      "execution_count": null,
      "outputs": [
        {
          "output_type": "display_data",
          "data": {
            "text/plain": [
              "<Figure size 2000x400 with 10 Axes>"
            ],
            "image/png": "[encoded data removed]"
          },
          "metadata": {}
        }
      ]
    }
  ]
}